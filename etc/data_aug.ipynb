{
 "metadata": {
  "language_info": {
   "codemirror_mode": {
    "name": "ipython",
    "version": 3
   },
   "file_extension": ".py",
   "mimetype": "text/x-python",
   "name": "python",
   "nbconvert_exporter": "python",
   "pygments_lexer": "ipython3",
   "version": "3.6.13"
  },
  "orig_nbformat": 2,
  "kernelspec": {
   "name": "python3613jvsc74a57bd053a9fabcc3d20f450272d6f27d62f67243b46d8c62d440e9fdeaafb4319217f7",
   "display_name": "Python 3.6.13 64-bit ('pororo': conda)"
  }
 },
 "nbformat": 4,
 "nbformat_minor": 2,
 "cells": [
  {
   "cell_type": "code",
   "execution_count": 14,
   "metadata": {},
   "outputs": [
    {
     "output_type": "stream",
     "name": "stdout",
     "text": [
      "/bin/bash: /opt/ml/anaconda3/bin/activate: No such file or directory\n"
     ]
    }
   ],
   "source": [
    "## 몇몇 명령어는 터미널에서만 수행해야하므로,\n",
    "## 편의를 위해 모든 명령어는 터미널에서 수행합니다.\n",
    "# 주석 노트\n",
    "# - 코드가 길어지더라도 깨달은 것이나, 이전 버전 등은 주석 등으로 남기고 진행합니다.\n",
    "#   따로 완벽하게 정리하려고 하면 진행이 너무 힘듭니다.\n",
    "#   또한 주피터 자체가 하나의 노트입니다.\n",
    "\n",
    "# conda를 업데이트 합니다. (선택사항)\n",
    "conda update -y -n base -c defaults conda\n",
    "\n",
    "# 이름이 <pororo>인 가상환경 제거 (재설치 하는 경우)\n",
    "# - python 버전이 다른 경우 등의 상황에서 충돌이 발생하며, 재설치가 쉽고 빠릅니다.\n",
    "conda deactivate                # 해당 환경이 활성화된 경우, 우선 비활성화합니다.\n",
    "conda remove -y -n pororo --all # 설치된 패키지까지 모두 제거합니다.\n",
    "\n",
    "conda env list # 가상환경 리스트 확인\n",
    "\n",
    "# 이름이 <pororo>인 가상환경 생성\n",
    "# - pororo 홈페이지에서는 \"pororo only supports python>=3.6\"라고 하지만,\n",
    "#   정확히 python=3.6 버전이어야 합니다. (그냥 python으로 설치하면 충돌이 발생합니다.) \n",
    "# - torch 설치 부분에서 계속 멈췄는데, VSCode를 껐다 키는 것으로 해결하였습니다.\n",
    "conda create -y -n pororo python=3.6 # python3.6 버전을 설치하면서 생성합니다.\n",
    "conda activate pororo                # 생성된 환경을 활성화합니다.\n",
    "\n",
    "# pororo 라이브러리 설치\n",
    "# - marisa-trie 라이브러리를 찾을 수 없다는 에러가 발생하여, 따로 설치해주었습니다.\n",
    "conda install -c conda-forge python-marisa-trie # marisa-trie 라이브러리 설치\n",
    "pip install pororo # pororo 라이브러리 설치\n",
    "\n",
    "# 가상환경을 커널로 설치\n",
    "# - 터미널에서는 conda activate가 잘 작동하지만, 주피터에서는 작동하지 않습니다.\n",
    "# - 주피터에서는 커널을 선택하며, 해당 커널은 설치된 가상환경만 사용합니다. (?)\n",
    "# - 현재 활성화된 가상환경에서 커널 설치를 수행하는 방식으로 커널 생성을 수행합니다.\n",
    "conda install ipykernel # 우선 해당 환경에 ipykernel 라이브러리를 설치합니다.\n",
    "ipython kernel install --user --name=pororo # <pororo>라는 이름으로 커널을 생성합니다.\n",
    "\n",
    "# 커널 리스트 확인: jupyter kernelspec list\n",
    "# 이름이 <pororo>인 커널 삭제: jupyter kernelspec uninstall pororo\n",
    "## 커널 생성 후, VSCode 자체를 재실행해야 적용됩니다 "
   ]
  },
  {
   "cell_type": "code",
   "execution_count": null,
   "metadata": {},
   "outputs": [],
   "source": [
    "## 수행 속도가 지나치게 느렸습니다. 이런 경우, GPU를 사용하고 있지 않을 확률이 큽니다.\n",
    "#  - nvidia-smi 커맨드를 이용하여 cuda 버전 등을 확인할 수 있습니다.\n",
    "#    cuda가 없으면 cuda 드라이버를 설치합니다.\n",
    "#  - torch.cuda.is_available()로 cuda가 사용가능한지 확인합니다.\n",
    "\n",
    "# 이번 경우에는 cuda 드라이버는 설치되어 있었지만, 사용은 불가능했습니다.\n",
    "# - torchvision 및 cudatoolkit을 재설치하여 해결하였습니다.\n",
    "#   conda uninstall -y torchvision\n",
    "#   conda install pytorch torchvision cudatoolkit=10.1 -c pytorch\n",
    "import torch\n",
    "\n",
    "!nvidia-smi\n",
    "torch.cuda.is_available()\n",
    "\n",
    "# 이후 GPU를 사용하고 있는지 터미널에서 확인합니다.\n",
    "# - watch -n 1 nvidia-smi (터미널에 입력하며, 1초마다 확인합니다.)\n",
    "#   제대로 작동함을 확인하였으며, 계산 속도가 개선되었습니다.\n",
    "# - 종료하려면 ctrl+z 혹은 crtl+c를 누릅니다.\n",
    "#   ctrl+z: stop(suspend)\n",
    "#   ctrl+c: exit(kill)"
   ]
  },
  {
   "cell_type": "code",
   "execution_count": 3,
   "metadata": {},
   "outputs": [
    {
     "output_type": "execute_result",
     "data": {
      "text/plain": [
       "'케빈은 아직 일하고 있다'"
      ]
     },
     "metadata": {},
     "execution_count": 3
    }
   ],
   "source": [
    "from pororo import Pororo\n",
    "\n",
    "# machine translation model\n",
    "mt = Pororo(task=\"translation\", lang=\"multi\")\n",
    "\n",
    "# example\n",
    "org = \"케빈은 아직도 일을 하고 있다.\"\n",
    "trn = mt(org, src=\"ko\", tgt=\"en\")\n",
    "mt(trn, src=\"en\", tgt=\"ko\")"
   ]
  },
  {
   "cell_type": "code",
   "execution_count": 4,
   "metadata": {},
   "outputs": [],
   "source": [
    "# translation-retranslation function\n",
    "def get_retranslated(org: str) -> str:\n",
    "    return mt(mt(org, src=\"ko\", tgt=\"en\"), src=\"en\", tgt=\"ko\")"
   ]
  },
  {
   "cell_type": "code",
   "execution_count": 20,
   "metadata": {},
   "outputs": [],
   "source": [
    "#!conda install -y pandas"
   ]
  },
  {
   "cell_type": "code",
   "execution_count": 5,
   "metadata": {},
   "outputs": [
    {
     "output_type": "execute_result",
     "data": {
      "text/plain": [
       "0    영국에서 사용되는 스포츠 유틸리티 자동차의 브랜드로는 랜드로버(Land Rover)와 지프(Jeep)가 있으며, 이...\n",
       "1    선거에서 민주당은 해산 전 의석인 230석에 한참 못 미치는 57석(지역구 27석, 비례대표 30석)을 획득하는 데...\n",
       "2    유럽 축구 연맹(UEFA) 집행위원회는 2014년 1월 24일에 열린 회의를 통해 2017년 대회부터 UEFA U-...\n",
       "Name: 1, dtype: object"
      ]
     },
     "metadata": {},
     "execution_count": 5
    }
   ],
   "source": [
    "import pandas as pd\n",
    "pd.options.display.max_colwidth = 68\n",
    "\n",
    "# data load\n",
    "data_path = \"/opt/ml/input/data/train/train.tsv\"\n",
    "org = pd.read_csv(data_path, delimiter=\"\\t\", header=None)\n",
    "org[1].head(3)\n",
    "#org.loc[:, 1:]"
   ]
  },
  {
   "cell_type": "code",
   "execution_count": 59,
   "metadata": {},
   "outputs": [],
   "source": [
    "#!conda install -y tqdm"
   ]
  },
  {
   "cell_type": "code",
   "execution_count": 29,
   "metadata": {},
   "outputs": [],
   "source": [
    "from tqdm import tqdm\n",
    "\n",
    "# augmentation\n",
    "aug = org.copy(deep=True)\n",
    "for i, s in enumerate(tqdm(aug[1])):\n",
    "    aug[1][i] = get_retranslated(s)\n",
    "aug[1].head(3)\n"
   ]
  },
  {
   "cell_type": "code",
   "execution_count": 23,
   "metadata": {},
   "outputs": [
    {
     "output_type": "execute_result",
     "data": {
      "text/plain": [
       "9000    영국에서 사용되는 스포츠카 브랜드에는 랜드로버와 지프가 포함되어 있으며, 이들 브랜딩도 자동차 유형을 언급하는 단어...\n",
       "9001                선거에서는 민주당이 해산 전 230석을 훨씬 밑도는 57석(구 27석, 비례대표 30석)에 그쳤다.\n",
       "9002    유럽축구연맹(UEFA) 집행위원회는 2017년 1월 24일 열린 회의를 통해 UEFFA U-21 축구대회 참가국을 ...\n",
       "Name: 1, dtype: object"
      ]
     },
     "metadata": {},
     "execution_count": 23
    }
   ],
   "source": [
    "# original DF에 augmentation DF를 append합니다.\n",
    "# - ignore_index하여 augmentation의 index가 original 뒤에 이어지도록 합니다.\n",
    "tot = org.append(aug, ignore_index=True)[:12000]\n",
    "tot[1][9000:9003]"
   ]
  },
  {
   "cell_type": "code",
   "execution_count": 28,
   "metadata": {},
   "outputs": [],
   "source": [
    "# 저장\n",
    "# 대회에서 주어진 원본 데이터 형식에 따릅니다.\n",
    "outdata_path = \"/opt/ml/input/data/train/train_aug.tsv\"\n",
    "tot.to_csv(outdata_path, index=False, header=False, sep=\"\t\")"
   ]
  },
  {
   "cell_type": "code",
   "execution_count": null,
   "metadata": {},
   "outputs": [],
   "source": []
  }
 ]
}