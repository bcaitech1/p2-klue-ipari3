{
 "cells": [
  {
   "cell_type": "code",
   "execution_count": 59,
   "id": "529ee36d",
   "metadata": {},
   "outputs": [],
   "source": [
    "#!pip install matplotlib"
   ]
  },
  {
   "cell_type": "code",
   "execution_count": 9,
   "id": "77f1494c-a059-4ca0-aecc-edb9a420f8e6",
   "metadata": {},
   "outputs": [],
   "source": [
    "import pickle\n",
    "import pandas as pd\n",
    "from matplotlib import pyplot as plt\n",
    "\n",
    "pd.options.display.max_colwidth = 20 # 각 열의 최대 출력 크기를 지정합니다."
   ]
  },
  {
   "source": [
    "## label 정보를 담은 pkl 파일 (label_type.pkl)"
   ],
   "cell_type": "markdown",
   "metadata": {}
  },
  {
   "cell_type": "code",
   "execution_count": 6,
   "id": "2e966f84-6389-4f33-913c-d2cebc4f02e4",
   "metadata": {
    "tags": []
   },
   "outputs": [
    {
     "output_type": "stream",
     "name": "stdout",
     "text": [
      "label 개수: 42\nlabel-logit 딕셔너리:\n {'관계_없음': 0, '인물:배우자': 1, '인물:직업/직함': 2, '단체:모회사': 3, '인물:소속단체': 4, '인물:동료': 5, '단체:별칭': 6, '인물:출신성분/국적': 7, '인물:부모님': 8, '단체:본사_국가': 9, '단체:구성원': 10, '인물:기타_친족': 11, '단체:창립자': 12, '단체:주주': 13, '인물:사망_일시': 14, '단체:상위_단체': 15, '단체:본사_주(도)': 16, '단체:제작': 17, '인물:사망_원인': 18, '인물:출생_도시': 19, '단체:본사_도시': 20, '인물:자녀': 21, '인물:제작': 22, '단체:하위_단체': 23, '인물:별칭': 24, '인물:형제/자매/남매': 25, '인물:출생_국가': 26, '인물:출생_일시': 27, '단체:구성원_수': 28, '단체:자회사': 29, '인물:거주_주(도)': 30, '단체:해산일': 31, '인물:거주_도시': 32, '단체:창립일': 33, '인물:종교': 34, '인물:거주_국가': 35, '인물:용의자': 36, '인물:사망_도시': 37, '단체:정치/종교성향': 38, '인물:학교': 39, '인물:사망_국가': 40, '인물:나이': 41}\n\nlabel: 관계_없음, A:B\nlabel A: 2 종류 {'인물', '단체'}\nlabel B: 39 종류 {'자녀', '출생_도시', '구성원_수', '직업/직함', '기타_친족', '출신성분/국적', '자회사', '거주_국가', '주주', '제작', '부모님', '본사_도시', '사망_국가', '창립자', '형제/자매/남매', '사망_일시', '본사_주(도)', '별칭', '종교', '창립일', '용의자', '거주_도시', '배우자', '구성원', '상위_단체', '해산일', '거주_주(도)', '사망_도시', '출생_국가', '모회사', '동료', '소속단체', '사망_원인', '본사_국가', '정치/종교성향', '출생_일시', '학교', '나이', '하위_단체'}\n"
     ]
    }
   ],
   "source": [
    "## label_type pkl 파일\n",
    "path = \"/opt/ml/input/data/label_type.pkl\"\n",
    "with open(path, \"rb\") as f: # rb: read binary\n",
    "    label_type = pickle.load(f)\n",
    "print(\"label 개수:\", len(label_type))\n",
    "print(\"label-logit 딕셔너리:\\n\", label_type)\n",
    "print()\n",
    "\n",
    "# label 문자열은 관계_없음, A:B 형식으로 존재합니다.\n",
    "print(\"label: 관계_없음, A:B\")\n",
    "# A와 B의 종류를 살펴봅니다.\n",
    "A = set()\n",
    "B = set()\n",
    "for label in label_type:\n",
    "    if \":\" in label:\n",
    "        a, b = label.split(\":\")\n",
    "        A.add(a)\n",
    "        B.add(b)\n",
    "print(f\"label A: {len(A)} 종류\", A)\n",
    "print(f\"label B: {len(B)} 종류\", B)"
   ]
  },
  {
   "source": [
    "## train data를 담은 tsv 파일 (train.tsv)  \n",
    "(tsv: Tab Separated Values)"
   ],
   "cell_type": "markdown",
   "metadata": {}
  },
  {
   "cell_type": "code",
   "execution_count": 10,
   "id": "8ceec0c9-20ec-4bf6-9563-1f99ad6cda64",
   "metadata": {},
   "outputs": [
    {
     "output_type": "stream",
     "name": "stdout",
     "text": [
      "데이터 개수:  9000\n"
     ]
    },
    {
     "output_type": "execute_result",
     "data": {
      "text/plain": [
       "                     1         2   3   4          5   6   7         8\n",
       "0  영국에서 사용되는 스포츠 유틸...      랜드로버  30  33        자동차  19  21     단체:제작\n",
       "1  선거에서 민주당은 해산 전 의...       민주당   5   7        27석  42  44     관계_없음\n",
       "2  유럽 축구 연맹(UEFA) 집...  유럽 축구 연맹   0   7       UEFA   9  12     단체:별칭\n",
       "3  용병 공격수 챠디의 부진과 시...       강수일  24  26        공격수   3   5  인물:직업/직함\n",
       "4  람캄행 왕은 1237년에서 1...       람캄행   0   2  퍼쿤 씨 인트라팃  32  40    인물:부모님\n",
       "5  이와 관련해 AFCD는 대학 ...       OIE  33  35        전문가  19  21     관계_없음\n",
       "6  신형 K5 사전계약 돌풍에 대...     기아자동차  18  22         K5   3   4     단체:제작\n",
       "7  2008년 이전 팀명칭은 나고...  나고야 그램퍼스  14  21    토요타 자동차  58  64    단체:모회사\n",
       "8  SW융합교육원 조영주 담당교수...     조선대학교  95  99        조영주   8  10    단체:구성원\n",
       "9  김동양 NH투자증권 연구원은 ...     삼성SDS  17  21        10%  86  88     관계_없음"
      ],
      "text/html": "<div>\n<style scoped>\n    .dataframe tbody tr th:only-of-type {\n        vertical-align: middle;\n    }\n\n    .dataframe tbody tr th {\n        vertical-align: top;\n    }\n\n    .dataframe thead th {\n        text-align: right;\n    }\n</style>\n<table border=\"1\" class=\"dataframe\">\n  <thead>\n    <tr style=\"text-align: right;\">\n      <th></th>\n      <th>1</th>\n      <th>2</th>\n      <th>3</th>\n      <th>4</th>\n      <th>5</th>\n      <th>6</th>\n      <th>7</th>\n      <th>8</th>\n    </tr>\n  </thead>\n  <tbody>\n    <tr>\n      <th>0</th>\n      <td>영국에서 사용되는 스포츠 유틸...</td>\n      <td>랜드로버</td>\n      <td>30</td>\n      <td>33</td>\n      <td>자동차</td>\n      <td>19</td>\n      <td>21</td>\n      <td>단체:제작</td>\n    </tr>\n    <tr>\n      <th>1</th>\n      <td>선거에서 민주당은 해산 전 의...</td>\n      <td>민주당</td>\n      <td>5</td>\n      <td>7</td>\n      <td>27석</td>\n      <td>42</td>\n      <td>44</td>\n      <td>관계_없음</td>\n    </tr>\n    <tr>\n      <th>2</th>\n      <td>유럽 축구 연맹(UEFA) 집...</td>\n      <td>유럽 축구 연맹</td>\n      <td>0</td>\n      <td>7</td>\n      <td>UEFA</td>\n      <td>9</td>\n      <td>12</td>\n      <td>단체:별칭</td>\n    </tr>\n    <tr>\n      <th>3</th>\n      <td>용병 공격수 챠디의 부진과 시...</td>\n      <td>강수일</td>\n      <td>24</td>\n      <td>26</td>\n      <td>공격수</td>\n      <td>3</td>\n      <td>5</td>\n      <td>인물:직업/직함</td>\n    </tr>\n    <tr>\n      <th>4</th>\n      <td>람캄행 왕은 1237년에서 1...</td>\n      <td>람캄행</td>\n      <td>0</td>\n      <td>2</td>\n      <td>퍼쿤 씨 인트라팃</td>\n      <td>32</td>\n      <td>40</td>\n      <td>인물:부모님</td>\n    </tr>\n    <tr>\n      <th>5</th>\n      <td>이와 관련해 AFCD는 대학 ...</td>\n      <td>OIE</td>\n      <td>33</td>\n      <td>35</td>\n      <td>전문가</td>\n      <td>19</td>\n      <td>21</td>\n      <td>관계_없음</td>\n    </tr>\n    <tr>\n      <th>6</th>\n      <td>신형 K5 사전계약 돌풍에 대...</td>\n      <td>기아자동차</td>\n      <td>18</td>\n      <td>22</td>\n      <td>K5</td>\n      <td>3</td>\n      <td>4</td>\n      <td>단체:제작</td>\n    </tr>\n    <tr>\n      <th>7</th>\n      <td>2008년 이전 팀명칭은 나고...</td>\n      <td>나고야 그램퍼스</td>\n      <td>14</td>\n      <td>21</td>\n      <td>토요타 자동차</td>\n      <td>58</td>\n      <td>64</td>\n      <td>단체:모회사</td>\n    </tr>\n    <tr>\n      <th>8</th>\n      <td>SW융합교육원 조영주 담당교수...</td>\n      <td>조선대학교</td>\n      <td>95</td>\n      <td>99</td>\n      <td>조영주</td>\n      <td>8</td>\n      <td>10</td>\n      <td>단체:구성원</td>\n    </tr>\n    <tr>\n      <th>9</th>\n      <td>김동양 NH투자증권 연구원은 ...</td>\n      <td>삼성SDS</td>\n      <td>17</td>\n      <td>21</td>\n      <td>10%</td>\n      <td>86</td>\n      <td>88</td>\n      <td>관계_없음</td>\n    </tr>\n  </tbody>\n</table>\n</div>"
     },
     "metadata": {},
     "execution_count": 10
    }
   ],
   "source": [
    "path = \"/opt/ml/input/data/train/train.tsv\"\n",
    "df0 = pd.read_csv(path, delimiter=\"\\t\", header=None)\n",
    "print(\"데이터 개수: \", df0.shape[0])\n",
    "\n",
    "# 데이터를 전반적으로 살펴봅니다.\n",
    "df = df0.iloc[:, 1:] # 0번째 컬럼은 쓸모없는 데이터이므로 제외합니다.\n",
    "num_head = 10\n",
    "pd.options.display.max_rows = num_head\n",
    "df.head(num_head)"
   ]
  },
  {
   "cell_type": "code",
   "execution_count": 11,
   "id": "37ae6529",
   "metadata": {},
   "outputs": [
    {
     "output_type": "stream",
     "name": "stdout",
     "text": [
      "50\n4\n0\n"
     ]
    }
   ],
   "source": [
    "## 중복 데이터를 확인합니다.\n",
    "# 문장, 개체1, 개체2, 관계가 모두 동일한 데이터의 수\n",
    "print(df.loc[:, (1, 2, 5, 8)].duplicated().sum())\n",
    "\n",
    "# 문장에서 개체들의 위치까지 동일한 데이터의 수\n",
    "# - 개체의 의미가 위치에 따라 달라질 수 있으므로 포함하여 중복을 판단하도록 합니다.\n",
    "# - 0번 컬럼을 제외하였으므로, df 전체에 대해 판단하면 됩니다.\n",
    "print(df.duplicated().sum())\n",
    "\n",
    "# 중복 데이터 제거\n",
    "df.drop_duplicates(inplace= True)\n",
    "# (1, 2, 5, 8) 컬럼에 대해서만 판단하려면 subset을 이용합니다. \n",
    "# df.drop_duplicates(subset=(1, 2, 5, 8), inplace= True)\n",
    "print(df.duplicated().sum())"
   ]
  },
  {
   "cell_type": "code",
   "execution_count": 13,
   "id": "e3fd523f",
   "metadata": {},
   "outputs": [
    {
     "output_type": "stream",
     "name": "stdout",
     "text": [
      "0\n"
     ]
    }
   ],
   "source": [
    "## 누락 데이터를 확인합니다.\n",
    "#  - 첫번째 sum은 행 별로 수행합니다.\n",
    "#  - sum(axis=1)이면 열 별로 수행합니다. (axis default = 0)\n",
    "print(df.isna().sum().sum())\n",
    "\n",
    "# 누락 데이터 제거\n",
    "# - how=\"any\": axis별로 na가 하나라도 있으면 drop (default)\n",
    "df.dropna(how=\"any\", inplace=True)"
   ]
  },
  {
   "cell_type": "code",
   "execution_count": 14,
   "id": "d9a806ab",
   "metadata": {},
   "outputs": [
    {
     "output_type": "stream",
     "name": "stdout",
     "text": [
      "학습 문장 최대 길이: 510\n학습 문장 평균 길이: 99.32469986660738\n"
     ]
    },
    {
     "output_type": "display_data",
     "data": {
      "text/plain": "<Figure size 432x288 with 1 Axes>",
      "image/svg+xml": "<?xml version=\"1.0\" encoding=\"utf-8\" standalone=\"no\"?>\n<!DOCTYPE svg PUBLIC \"-//W3C//DTD SVG 1.1//EN\"\n  \"http://www.w3.org/Graphics/SVG/1.1/DTD/svg11.dtd\">\n<svg height=\"262.19625pt\" version=\"1.1\" viewBox=\"0 0 388.965625 262.19625\" width=\"388.965625pt\" xmlns=\"http://www.w3.org/2000/svg\" xmlns:xlink=\"http://www.w3.org/1999/xlink\">\n <metadata>\n  <rdf:RDF xmlns:cc=\"http://creativecommons.org/ns#\" xmlns:dc=\"http://purl.org/dc/elements/1.1/\" xmlns:rdf=\"http://www.w3.org/1999/02/22-rdf-syntax-ns#\">\n   <cc:Work>\n    <dc:type rdf:resource=\"http://purl.org/dc/dcmitype/StillImage\"/>\n    <dc:date>2021-04-22T14:42:34.738889</dc:date>\n    <dc:format>image/svg+xml</dc:format>\n    <dc:creator>\n     <cc:Agent>\n      <dc:title>Matplotlib v3.4.1, https://matplotlib.org/</dc:title>\n     </cc:Agent>\n    </dc:creator>\n   </cc:Work>\n  </rdf:RDF>\n </metadata>\n <defs>\n  <style type=\"text/css\">*{stroke-linecap:butt;stroke-linejoin:round;}</style>\n </defs>\n <g id=\"figure_1\">\n  <g id=\"patch_1\">\n   <path d=\"M 0 262.19625 \nL 388.965625 262.19625 \nL 388.965625 0 \nL 0 0 \nz\n\" style=\"fill:none;\"/>\n  </g>\n  <g id=\"axes_1\">\n   <g id=\"patch_2\">\n    <path d=\"M 46.965625 224.64 \nL 381.765625 224.64 \nL 381.765625 7.2 \nL 46.965625 7.2 \nz\n\" style=\"fill:#ffffff;\"/>\n   </g>\n   <g id=\"patch_3\">\n    <path clip-path=\"url(#p152a3c1d25)\" d=\"M 62.183807 224.64 \nL 68.27108 224.64 \nL 68.27108 219.540459 \nL 62.183807 219.540459 \nz\n\" style=\"fill:#1f77b4;\"/>\n   </g>\n   <g id=\"patch_4\">\n    <path clip-path=\"url(#p152a3c1d25)\" d=\"M 68.27108 224.64 \nL 74.358352 224.64 \nL 74.358352 180.961322 \nL 68.27108 180.961322 \nz\n\" style=\"fill:#1f77b4;\"/>\n   </g>\n   <g id=\"patch_5\">\n    <path clip-path=\"url(#p152a3c1d25)\" d=\"M 74.358352 224.64 \nL 80.445625 224.64 \nL 80.445625 124.422931 \nL 74.358352 124.422931 \nz\n\" style=\"fill:#1f77b4;\"/>\n   </g>\n   <g id=\"patch_6\">\n    <path clip-path=\"url(#p152a3c1d25)\" d=\"M 80.445625 224.64 \nL 86.532898 224.64 \nL 86.532898 72.097204 \nL 80.445625 72.097204 \nz\n\" style=\"fill:#1f77b4;\"/>\n   </g>\n   <g id=\"patch_7\">\n    <path clip-path=\"url(#p152a3c1d25)\" d=\"M 86.532898 224.64 \nL 92.62017 224.64 \nL 92.62017 31.966032 \nL 86.532898 31.966032 \nz\n\" style=\"fill:#1f77b4;\"/>\n   </g>\n   <g id=\"patch_8\">\n    <path clip-path=\"url(#p152a3c1d25)\" d=\"M 92.62017 224.64 \nL 98.707443 224.64 \nL 98.707443 23.097265 \nL 92.62017 23.097265 \nz\n\" style=\"fill:#1f77b4;\"/>\n   </g>\n   <g id=\"patch_9\">\n    <path clip-path=\"url(#p152a3c1d25)\" d=\"M 98.707443 224.64 \nL 104.794716 224.64 \nL 104.794716 17.554286 \nL 98.707443 17.554286 \nz\n\" style=\"fill:#1f77b4;\"/>\n   </g>\n   <g id=\"patch_10\">\n    <path clip-path=\"url(#p152a3c1d25)\" d=\"M 104.794716 224.64 \nL 110.881989 224.64 \nL 110.881989 24.649299 \nL 104.794716 24.649299 \nz\n\" style=\"fill:#1f77b4;\"/>\n   </g>\n   <g id=\"patch_11\">\n    <path clip-path=\"url(#p152a3c1d25)\" d=\"M 110.881989 224.64 \nL 116.969261 224.64 \nL 116.969261 54.581389 \nL 110.881989 54.581389 \nz\n\" style=\"fill:#1f77b4;\"/>\n   </g>\n   <g id=\"patch_12\">\n    <path clip-path=\"url(#p152a3c1d25)\" d=\"M 116.969261 224.64 \nL 123.056534 224.64 \nL 123.056534 97.816629 \nL 116.969261 97.816629 \nz\n\" style=\"fill:#1f77b4;\"/>\n   </g>\n   <g id=\"patch_13\">\n    <path clip-path=\"url(#p152a3c1d25)\" d=\"M 123.056534 224.64 \nL 129.143807 224.64 \nL 129.143807 111.563218 \nL 123.056534 111.563218 \nz\n\" style=\"fill:#1f77b4;\"/>\n   </g>\n   <g id=\"patch_14\">\n    <path clip-path=\"url(#p152a3c1d25)\" d=\"M 129.143807 224.64 \nL 135.23108 224.64 \nL 135.23108 122.427458 \nL 129.143807 122.427458 \nz\n\" style=\"fill:#1f77b4;\"/>\n   </g>\n   <g id=\"patch_15\">\n    <path clip-path=\"url(#p152a3c1d25)\" d=\"M 135.23108 224.64 \nL 141.318352 224.64 \nL 141.318352 147.703444 \nL 135.23108 147.703444 \nz\n\" style=\"fill:#1f77b4;\"/>\n   </g>\n   <g id=\"patch_16\">\n    <path clip-path=\"url(#p152a3c1d25)\" d=\"M 141.318352 224.64 \nL 147.405625 224.64 \nL 147.405625 161.006595 \nL 141.318352 161.006595 \nz\n\" style=\"fill:#1f77b4;\"/>\n   </g>\n   <g id=\"patch_17\">\n    <path clip-path=\"url(#p152a3c1d25)\" d=\"M 147.405625 224.64 \nL 153.492898 224.64 \nL 153.492898 170.54052 \nL 147.405625 170.54052 \nz\n\" style=\"fill:#1f77b4;\"/>\n   </g>\n   <g id=\"patch_18\">\n    <path clip-path=\"url(#p152a3c1d25)\" d=\"M 153.492898 224.64 \nL 159.58017 224.64 \nL 159.58017 183.178513 \nL 153.492898 183.178513 \nz\n\" style=\"fill:#1f77b4;\"/>\n   </g>\n   <g id=\"patch_19\">\n    <path clip-path=\"url(#p152a3c1d25)\" d=\"M 159.58017 224.64 \nL 165.667443 224.64 \nL 165.667443 197.146822 \nL 159.58017 197.146822 \nz\n\" style=\"fill:#1f77b4;\"/>\n   </g>\n   <g id=\"patch_20\">\n    <path clip-path=\"url(#p152a3c1d25)\" d=\"M 165.667443 224.64 \nL 171.754716 224.64 \nL 171.754716 201.581205 \nL 165.667443 201.581205 \nz\n\" style=\"fill:#1f77b4;\"/>\n   </g>\n   <g id=\"patch_21\">\n    <path clip-path=\"url(#p152a3c1d25)\" d=\"M 171.754716 224.64 \nL 177.841989 224.64 \nL 177.841989 207.345904 \nL 171.754716 207.345904 \nz\n\" style=\"fill:#1f77b4;\"/>\n   </g>\n   <g id=\"patch_22\">\n    <path clip-path=\"url(#p152a3c1d25)\" d=\"M 177.841989 224.64 \nL 183.929261 224.64 \nL 183.929261 214.440918 \nL 177.841989 214.440918 \nz\n\" style=\"fill:#1f77b4;\"/>\n   </g>\n   <g id=\"patch_23\">\n    <path clip-path=\"url(#p152a3c1d25)\" d=\"M 183.929261 224.64 \nL 190.016534 224.64 \nL 190.016534 208.676219 \nL 183.929261 208.676219 \nz\n\" style=\"fill:#1f77b4;\"/>\n   </g>\n   <g id=\"patch_24\">\n    <path clip-path=\"url(#p152a3c1d25)\" d=\"M 190.016534 224.64 \nL 196.103807 224.64 \nL 196.103807 217.323267 \nL 190.016534 217.323267 \nz\n\" style=\"fill:#1f77b4;\"/>\n   </g>\n   <g id=\"patch_25\">\n    <path clip-path=\"url(#p152a3c1d25)\" d=\"M 196.103807 224.64 \nL 202.19108 224.64 \nL 202.19108 218.210144 \nL 196.103807 218.210144 \nz\n\" style=\"fill:#1f77b4;\"/>\n   </g>\n   <g id=\"patch_26\">\n    <path clip-path=\"url(#p152a3c1d25)\" d=\"M 202.19108 224.64 \nL 208.278352 224.64 \nL 208.278352 218.431863 \nL 202.19108 218.431863 \nz\n\" style=\"fill:#1f77b4;\"/>\n   </g>\n   <g id=\"patch_27\">\n    <path clip-path=\"url(#p152a3c1d25)\" d=\"M 208.278352 224.64 \nL 214.365625 224.64 \nL 214.365625 220.427336 \nL 208.278352 220.427336 \nz\n\" style=\"fill:#1f77b4;\"/>\n   </g>\n   <g id=\"patch_28\">\n    <path clip-path=\"url(#p152a3c1d25)\" d=\"M 214.365625 224.64 \nL 220.452898 224.64 \nL 220.452898 221.092493 \nL 214.365625 221.092493 \nz\n\" style=\"fill:#1f77b4;\"/>\n   </g>\n   <g id=\"patch_29\">\n    <path clip-path=\"url(#p152a3c1d25)\" d=\"M 220.452898 224.64 \nL 226.54017 224.64 \nL 226.54017 221.97937 \nL 220.452898 221.97937 \nz\n\" style=\"fill:#1f77b4;\"/>\n   </g>\n   <g id=\"patch_30\">\n    <path clip-path=\"url(#p152a3c1d25)\" d=\"M 226.54017 224.64 \nL 232.627443 224.64 \nL 232.627443 222.644527 \nL 226.54017 222.644527 \nz\n\" style=\"fill:#1f77b4;\"/>\n   </g>\n   <g id=\"patch_31\">\n    <path clip-path=\"url(#p152a3c1d25)\" d=\"M 232.627443 224.64 \nL 238.714716 224.64 \nL 238.714716 222.644527 \nL 232.627443 222.644527 \nz\n\" style=\"fill:#1f77b4;\"/>\n   </g>\n   <g id=\"patch_32\">\n    <path clip-path=\"url(#p152a3c1d25)\" d=\"M 238.714716 224.64 \nL 244.801989 224.64 \nL 244.801989 222.644527 \nL 238.714716 222.644527 \nz\n\" style=\"fill:#1f77b4;\"/>\n   </g>\n   <g id=\"patch_33\">\n    <path clip-path=\"url(#p152a3c1d25)\" d=\"M 244.801989 224.64 \nL 250.889261 224.64 \nL 250.889261 221.535931 \nL 244.801989 221.535931 \nz\n\" style=\"fill:#1f77b4;\"/>\n   </g>\n   <g id=\"patch_34\">\n    <path clip-path=\"url(#p152a3c1d25)\" d=\"M 250.889261 224.64 \nL 256.976534 224.64 \nL 256.976534 222.644527 \nL 250.889261 222.644527 \nz\n\" style=\"fill:#1f77b4;\"/>\n   </g>\n   <g id=\"patch_35\">\n    <path clip-path=\"url(#p152a3c1d25)\" d=\"M 256.976534 224.64 \nL 263.063807 224.64 \nL 263.063807 223.753123 \nL 256.976534 223.753123 \nz\n\" style=\"fill:#1f77b4;\"/>\n   </g>\n   <g id=\"patch_36\">\n    <path clip-path=\"url(#p152a3c1d25)\" d=\"M 263.063807 224.64 \nL 269.15108 224.64 \nL 269.15108 223.974842 \nL 263.063807 223.974842 \nz\n\" style=\"fill:#1f77b4;\"/>\n   </g>\n   <g id=\"patch_37\">\n    <path clip-path=\"url(#p152a3c1d25)\" d=\"M 269.15108 224.64 \nL 275.238352 224.64 \nL 275.238352 223.753123 \nL 269.15108 223.753123 \nz\n\" style=\"fill:#1f77b4;\"/>\n   </g>\n   <g id=\"patch_38\">\n    <path clip-path=\"url(#p152a3c1d25)\" d=\"M 275.238352 224.64 \nL 281.325625 224.64 \nL 281.325625 223.974842 \nL 275.238352 223.974842 \nz\n\" style=\"fill:#1f77b4;\"/>\n   </g>\n   <g id=\"patch_39\">\n    <path clip-path=\"url(#p152a3c1d25)\" d=\"M 281.325625 224.64 \nL 287.412898 224.64 \nL 287.412898 223.753123 \nL 281.325625 223.753123 \nz\n\" style=\"fill:#1f77b4;\"/>\n   </g>\n   <g id=\"patch_40\">\n    <path clip-path=\"url(#p152a3c1d25)\" d=\"M 287.412898 224.64 \nL 293.50017 224.64 \nL 293.50017 223.974842 \nL 287.412898 223.974842 \nz\n\" style=\"fill:#1f77b4;\"/>\n   </g>\n   <g id=\"patch_41\">\n    <path clip-path=\"url(#p152a3c1d25)\" d=\"M 293.50017 224.64 \nL 299.587443 224.64 \nL 299.587443 224.64 \nL 293.50017 224.64 \nz\n\" style=\"fill:#1f77b4;\"/>\n   </g>\n   <g id=\"patch_42\">\n    <path clip-path=\"url(#p152a3c1d25)\" d=\"M 299.587443 224.64 \nL 305.674716 224.64 \nL 305.674716 224.64 \nL 299.587443 224.64 \nz\n\" style=\"fill:#1f77b4;\"/>\n   </g>\n   <g id=\"patch_43\">\n    <path clip-path=\"url(#p152a3c1d25)\" d=\"M 305.674716 224.64 \nL 311.761989 224.64 \nL 311.761989 223.753123 \nL 305.674716 223.753123 \nz\n\" style=\"fill:#1f77b4;\"/>\n   </g>\n   <g id=\"patch_44\">\n    <path clip-path=\"url(#p152a3c1d25)\" d=\"M 311.761989 224.64 \nL 317.849261 224.64 \nL 317.849261 224.196562 \nL 311.761989 224.196562 \nz\n\" style=\"fill:#1f77b4;\"/>\n   </g>\n   <g id=\"patch_45\">\n    <path clip-path=\"url(#p152a3c1d25)\" d=\"M 317.849261 224.64 \nL 323.936534 224.64 \nL 323.936534 224.196562 \nL 317.849261 224.196562 \nz\n\" style=\"fill:#1f77b4;\"/>\n   </g>\n   <g id=\"patch_46\">\n    <path clip-path=\"url(#p152a3c1d25)\" d=\"M 323.936534 224.64 \nL 330.023807 224.64 \nL 330.023807 224.418281 \nL 323.936534 224.418281 \nz\n\" style=\"fill:#1f77b4;\"/>\n   </g>\n   <g id=\"patch_47\">\n    <path clip-path=\"url(#p152a3c1d25)\" d=\"M 330.023807 224.64 \nL 336.11108 224.64 \nL 336.11108 224.64 \nL 330.023807 224.64 \nz\n\" style=\"fill:#1f77b4;\"/>\n   </g>\n   <g id=\"patch_48\">\n    <path clip-path=\"url(#p152a3c1d25)\" d=\"M 336.11108 224.64 \nL 342.198352 224.64 \nL 342.198352 223.974842 \nL 336.11108 223.974842 \nz\n\" style=\"fill:#1f77b4;\"/>\n   </g>\n   <g id=\"patch_49\">\n    <path clip-path=\"url(#p152a3c1d25)\" d=\"M 342.198352 224.64 \nL 348.285625 224.64 \nL 348.285625 224.64 \nL 342.198352 224.64 \nz\n\" style=\"fill:#1f77b4;\"/>\n   </g>\n   <g id=\"patch_50\">\n    <path clip-path=\"url(#p152a3c1d25)\" d=\"M 348.285625 224.64 \nL 354.372898 224.64 \nL 354.372898 224.418281 \nL 348.285625 224.418281 \nz\n\" style=\"fill:#1f77b4;\"/>\n   </g>\n   <g id=\"patch_51\">\n    <path clip-path=\"url(#p152a3c1d25)\" d=\"M 354.372898 224.64 \nL 360.46017 224.64 \nL 360.46017 224.418281 \nL 354.372898 224.418281 \nz\n\" style=\"fill:#1f77b4;\"/>\n   </g>\n   <g id=\"patch_52\">\n    <path clip-path=\"url(#p152a3c1d25)\" d=\"M 360.46017 224.64 \nL 366.547443 224.64 \nL 366.547443 224.418281 \nL 360.46017 224.418281 \nz\n\" style=\"fill:#1f77b4;\"/>\n   </g>\n   <g id=\"matplotlib.axis_1\">\n    <g id=\"xtick_1\">\n     <g id=\"line2d_1\">\n      <defs>\n       <path d=\"M 0 0 \nL 0 3.5 \n\" id=\"m0550709b04\" style=\"stroke:#000000;stroke-width:0.8;\"/>\n      </defs>\n      <g>\n       <use style=\"stroke:#000000;stroke-width:0.8;\" x=\"52.960666\" xlink:href=\"#m0550709b04\" y=\"224.64\"/>\n      </g>\n     </g>\n     <g id=\"text_1\">\n      <!-- 0 -->\n      <g transform=\"translate(49.779416 239.238437)scale(0.1 -0.1)\">\n       <defs>\n        <path d=\"M 2034 4250 \nQ 1547 4250 1301 3770 \nQ 1056 3291 1056 2328 \nQ 1056 1369 1301 889 \nQ 1547 409 2034 409 \nQ 2525 409 2770 889 \nQ 3016 1369 3016 2328 \nQ 3016 3291 2770 3770 \nQ 2525 4250 2034 4250 \nz\nM 2034 4750 \nQ 2819 4750 3233 4129 \nQ 3647 3509 3647 2328 \nQ 3647 1150 3233 529 \nQ 2819 -91 2034 -91 \nQ 1250 -91 836 529 \nQ 422 1150 422 2328 \nQ 422 3509 836 4129 \nQ 1250 4750 2034 4750 \nz\n\" id=\"DejaVuSans-30\" transform=\"scale(0.015625)\"/>\n       </defs>\n       <use xlink:href=\"#DejaVuSans-30\"/>\n      </g>\n     </g>\n    </g>\n    <g id=\"xtick_2\">\n     <g id=\"line2d_2\">\n      <g>\n       <use style=\"stroke:#000000;stroke-width:0.8;\" x=\"114.44827\" xlink:href=\"#m0550709b04\" y=\"224.64\"/>\n      </g>\n     </g>\n     <g id=\"text_2\">\n      <!-- 100 -->\n      <g transform=\"translate(104.90452 239.238437)scale(0.1 -0.1)\">\n       <defs>\n        <path d=\"M 794 531 \nL 1825 531 \nL 1825 4091 \nL 703 3866 \nL 703 4441 \nL 1819 4666 \nL 2450 4666 \nL 2450 531 \nL 3481 531 \nL 3481 0 \nL 794 0 \nL 794 531 \nz\n\" id=\"DejaVuSans-31\" transform=\"scale(0.015625)\"/>\n       </defs>\n       <use xlink:href=\"#DejaVuSans-31\"/>\n       <use x=\"63.623047\" xlink:href=\"#DejaVuSans-30\"/>\n       <use x=\"127.246094\" xlink:href=\"#DejaVuSans-30\"/>\n      </g>\n     </g>\n    </g>\n    <g id=\"xtick_3\">\n     <g id=\"line2d_3\">\n      <g>\n       <use style=\"stroke:#000000;stroke-width:0.8;\" x=\"175.935873\" xlink:href=\"#m0550709b04\" y=\"224.64\"/>\n      </g>\n     </g>\n     <g id=\"text_3\">\n      <!-- 200 -->\n      <g transform=\"translate(166.392123 239.238437)scale(0.1 -0.1)\">\n       <defs>\n        <path d=\"M 1228 531 \nL 3431 531 \nL 3431 0 \nL 469 0 \nL 469 531 \nQ 828 903 1448 1529 \nQ 2069 2156 2228 2338 \nQ 2531 2678 2651 2914 \nQ 2772 3150 2772 3378 \nQ 2772 3750 2511 3984 \nQ 2250 4219 1831 4219 \nQ 1534 4219 1204 4116 \nQ 875 4013 500 3803 \nL 500 4441 \nQ 881 4594 1212 4672 \nQ 1544 4750 1819 4750 \nQ 2544 4750 2975 4387 \nQ 3406 4025 3406 3419 \nQ 3406 3131 3298 2873 \nQ 3191 2616 2906 2266 \nQ 2828 2175 2409 1742 \nQ 1991 1309 1228 531 \nz\n\" id=\"DejaVuSans-32\" transform=\"scale(0.015625)\"/>\n       </defs>\n       <use xlink:href=\"#DejaVuSans-32\"/>\n       <use x=\"63.623047\" xlink:href=\"#DejaVuSans-30\"/>\n       <use x=\"127.246094\" xlink:href=\"#DejaVuSans-30\"/>\n      </g>\n     </g>\n    </g>\n    <g id=\"xtick_4\">\n     <g id=\"line2d_4\">\n      <g>\n       <use style=\"stroke:#000000;stroke-width:0.8;\" x=\"237.423476\" xlink:href=\"#m0550709b04\" y=\"224.64\"/>\n      </g>\n     </g>\n     <g id=\"text_4\">\n      <!-- 300 -->\n      <g transform=\"translate(227.879726 239.238437)scale(0.1 -0.1)\">\n       <defs>\n        <path d=\"M 2597 2516 \nQ 3050 2419 3304 2112 \nQ 3559 1806 3559 1356 \nQ 3559 666 3084 287 \nQ 2609 -91 1734 -91 \nQ 1441 -91 1130 -33 \nQ 819 25 488 141 \nL 488 750 \nQ 750 597 1062 519 \nQ 1375 441 1716 441 \nQ 2309 441 2620 675 \nQ 2931 909 2931 1356 \nQ 2931 1769 2642 2001 \nQ 2353 2234 1838 2234 \nL 1294 2234 \nL 1294 2753 \nL 1863 2753 \nQ 2328 2753 2575 2939 \nQ 2822 3125 2822 3475 \nQ 2822 3834 2567 4026 \nQ 2313 4219 1838 4219 \nQ 1578 4219 1281 4162 \nQ 984 4106 628 3988 \nL 628 4550 \nQ 988 4650 1302 4700 \nQ 1616 4750 1894 4750 \nQ 2613 4750 3031 4423 \nQ 3450 4097 3450 3541 \nQ 3450 3153 3228 2886 \nQ 3006 2619 2597 2516 \nz\n\" id=\"DejaVuSans-33\" transform=\"scale(0.015625)\"/>\n       </defs>\n       <use xlink:href=\"#DejaVuSans-33\"/>\n       <use x=\"63.623047\" xlink:href=\"#DejaVuSans-30\"/>\n       <use x=\"127.246094\" xlink:href=\"#DejaVuSans-30\"/>\n      </g>\n     </g>\n    </g>\n    <g id=\"xtick_5\">\n     <g id=\"line2d_5\">\n      <g>\n       <use style=\"stroke:#000000;stroke-width:0.8;\" x=\"298.91108\" xlink:href=\"#m0550709b04\" y=\"224.64\"/>\n      </g>\n     </g>\n     <g id=\"text_5\">\n      <!-- 400 -->\n      <g transform=\"translate(289.36733 239.238437)scale(0.1 -0.1)\">\n       <defs>\n        <path d=\"M 2419 4116 \nL 825 1625 \nL 2419 1625 \nL 2419 4116 \nz\nM 2253 4666 \nL 3047 4666 \nL 3047 1625 \nL 3713 1625 \nL 3713 1100 \nL 3047 1100 \nL 3047 0 \nL 2419 0 \nL 2419 1100 \nL 313 1100 \nL 313 1709 \nL 2253 4666 \nz\n\" id=\"DejaVuSans-34\" transform=\"scale(0.015625)\"/>\n       </defs>\n       <use xlink:href=\"#DejaVuSans-34\"/>\n       <use x=\"63.623047\" xlink:href=\"#DejaVuSans-30\"/>\n       <use x=\"127.246094\" xlink:href=\"#DejaVuSans-30\"/>\n      </g>\n     </g>\n    </g>\n    <g id=\"xtick_6\">\n     <g id=\"line2d_6\">\n      <g>\n       <use style=\"stroke:#000000;stroke-width:0.8;\" x=\"360.398683\" xlink:href=\"#m0550709b04\" y=\"224.64\"/>\n      </g>\n     </g>\n     <g id=\"text_6\">\n      <!-- 500 -->\n      <g transform=\"translate(350.854933 239.238437)scale(0.1 -0.1)\">\n       <defs>\n        <path d=\"M 691 4666 \nL 3169 4666 \nL 3169 4134 \nL 1269 4134 \nL 1269 2991 \nQ 1406 3038 1543 3061 \nQ 1681 3084 1819 3084 \nQ 2600 3084 3056 2656 \nQ 3513 2228 3513 1497 \nQ 3513 744 3044 326 \nQ 2575 -91 1722 -91 \nQ 1428 -91 1123 -41 \nQ 819 9 494 109 \nL 494 744 \nQ 775 591 1075 516 \nQ 1375 441 1709 441 \nQ 2250 441 2565 725 \nQ 2881 1009 2881 1497 \nQ 2881 1984 2565 2268 \nQ 2250 2553 1709 2553 \nQ 1456 2553 1204 2497 \nQ 953 2441 691 2322 \nL 691 4666 \nz\n\" id=\"DejaVuSans-35\" transform=\"scale(0.015625)\"/>\n       </defs>\n       <use xlink:href=\"#DejaVuSans-35\"/>\n       <use x=\"63.623047\" xlink:href=\"#DejaVuSans-30\"/>\n       <use x=\"127.246094\" xlink:href=\"#DejaVuSans-30\"/>\n      </g>\n     </g>\n    </g>\n    <g id=\"text_7\">\n     <!-- length of data -->\n     <g transform=\"translate(179.167969 252.916562)scale(0.1 -0.1)\">\n      <defs>\n       <path d=\"M 603 4863 \nL 1178 4863 \nL 1178 0 \nL 603 0 \nL 603 4863 \nz\n\" id=\"DejaVuSans-6c\" transform=\"scale(0.015625)\"/>\n       <path d=\"M 3597 1894 \nL 3597 1613 \nL 953 1613 \nQ 991 1019 1311 708 \nQ 1631 397 2203 397 \nQ 2534 397 2845 478 \nQ 3156 559 3463 722 \nL 3463 178 \nQ 3153 47 2828 -22 \nQ 2503 -91 2169 -91 \nQ 1331 -91 842 396 \nQ 353 884 353 1716 \nQ 353 2575 817 3079 \nQ 1281 3584 2069 3584 \nQ 2775 3584 3186 3129 \nQ 3597 2675 3597 1894 \nz\nM 3022 2063 \nQ 3016 2534 2758 2815 \nQ 2500 3097 2075 3097 \nQ 1594 3097 1305 2825 \nQ 1016 2553 972 2059 \nL 3022 2063 \nz\n\" id=\"DejaVuSans-65\" transform=\"scale(0.015625)\"/>\n       <path d=\"M 3513 2113 \nL 3513 0 \nL 2938 0 \nL 2938 2094 \nQ 2938 2591 2744 2837 \nQ 2550 3084 2163 3084 \nQ 1697 3084 1428 2787 \nQ 1159 2491 1159 1978 \nL 1159 0 \nL 581 0 \nL 581 3500 \nL 1159 3500 \nL 1159 2956 \nQ 1366 3272 1645 3428 \nQ 1925 3584 2291 3584 \nQ 2894 3584 3203 3211 \nQ 3513 2838 3513 2113 \nz\n\" id=\"DejaVuSans-6e\" transform=\"scale(0.015625)\"/>\n       <path d=\"M 2906 1791 \nQ 2906 2416 2648 2759 \nQ 2391 3103 1925 3103 \nQ 1463 3103 1205 2759 \nQ 947 2416 947 1791 \nQ 947 1169 1205 825 \nQ 1463 481 1925 481 \nQ 2391 481 2648 825 \nQ 2906 1169 2906 1791 \nz\nM 3481 434 \nQ 3481 -459 3084 -895 \nQ 2688 -1331 1869 -1331 \nQ 1566 -1331 1297 -1286 \nQ 1028 -1241 775 -1147 \nL 775 -588 \nQ 1028 -725 1275 -790 \nQ 1522 -856 1778 -856 \nQ 2344 -856 2625 -561 \nQ 2906 -266 2906 331 \nL 2906 616 \nQ 2728 306 2450 153 \nQ 2172 0 1784 0 \nQ 1141 0 747 490 \nQ 353 981 353 1791 \nQ 353 2603 747 3093 \nQ 1141 3584 1784 3584 \nQ 2172 3584 2450 3431 \nQ 2728 3278 2906 2969 \nL 2906 3500 \nL 3481 3500 \nL 3481 434 \nz\n\" id=\"DejaVuSans-67\" transform=\"scale(0.015625)\"/>\n       <path d=\"M 1172 4494 \nL 1172 3500 \nL 2356 3500 \nL 2356 3053 \nL 1172 3053 \nL 1172 1153 \nQ 1172 725 1289 603 \nQ 1406 481 1766 481 \nL 2356 481 \nL 2356 0 \nL 1766 0 \nQ 1100 0 847 248 \nQ 594 497 594 1153 \nL 594 3053 \nL 172 3053 \nL 172 3500 \nL 594 3500 \nL 594 4494 \nL 1172 4494 \nz\n\" id=\"DejaVuSans-74\" transform=\"scale(0.015625)\"/>\n       <path d=\"M 3513 2113 \nL 3513 0 \nL 2938 0 \nL 2938 2094 \nQ 2938 2591 2744 2837 \nQ 2550 3084 2163 3084 \nQ 1697 3084 1428 2787 \nQ 1159 2491 1159 1978 \nL 1159 0 \nL 581 0 \nL 581 4863 \nL 1159 4863 \nL 1159 2956 \nQ 1366 3272 1645 3428 \nQ 1925 3584 2291 3584 \nQ 2894 3584 3203 3211 \nQ 3513 2838 3513 2113 \nz\n\" id=\"DejaVuSans-68\" transform=\"scale(0.015625)\"/>\n       <path id=\"DejaVuSans-20\" transform=\"scale(0.015625)\"/>\n       <path d=\"M 1959 3097 \nQ 1497 3097 1228 2736 \nQ 959 2375 959 1747 \nQ 959 1119 1226 758 \nQ 1494 397 1959 397 \nQ 2419 397 2687 759 \nQ 2956 1122 2956 1747 \nQ 2956 2369 2687 2733 \nQ 2419 3097 1959 3097 \nz\nM 1959 3584 \nQ 2709 3584 3137 3096 \nQ 3566 2609 3566 1747 \nQ 3566 888 3137 398 \nQ 2709 -91 1959 -91 \nQ 1206 -91 779 398 \nQ 353 888 353 1747 \nQ 353 2609 779 3096 \nQ 1206 3584 1959 3584 \nz\n\" id=\"DejaVuSans-6f\" transform=\"scale(0.015625)\"/>\n       <path d=\"M 2375 4863 \nL 2375 4384 \nL 1825 4384 \nQ 1516 4384 1395 4259 \nQ 1275 4134 1275 3809 \nL 1275 3500 \nL 2222 3500 \nL 2222 3053 \nL 1275 3053 \nL 1275 0 \nL 697 0 \nL 697 3053 \nL 147 3053 \nL 147 3500 \nL 697 3500 \nL 697 3744 \nQ 697 4328 969 4595 \nQ 1241 4863 1831 4863 \nL 2375 4863 \nz\n\" id=\"DejaVuSans-66\" transform=\"scale(0.015625)\"/>\n       <path d=\"M 2906 2969 \nL 2906 4863 \nL 3481 4863 \nL 3481 0 \nL 2906 0 \nL 2906 525 \nQ 2725 213 2448 61 \nQ 2172 -91 1784 -91 \nQ 1150 -91 751 415 \nQ 353 922 353 1747 \nQ 353 2572 751 3078 \nQ 1150 3584 1784 3584 \nQ 2172 3584 2448 3432 \nQ 2725 3281 2906 2969 \nz\nM 947 1747 \nQ 947 1113 1208 752 \nQ 1469 391 1925 391 \nQ 2381 391 2643 752 \nQ 2906 1113 2906 1747 \nQ 2906 2381 2643 2742 \nQ 2381 3103 1925 3103 \nQ 1469 3103 1208 2742 \nQ 947 2381 947 1747 \nz\n\" id=\"DejaVuSans-64\" transform=\"scale(0.015625)\"/>\n       <path d=\"M 2194 1759 \nQ 1497 1759 1228 1600 \nQ 959 1441 959 1056 \nQ 959 750 1161 570 \nQ 1363 391 1709 391 \nQ 2188 391 2477 730 \nQ 2766 1069 2766 1631 \nL 2766 1759 \nL 2194 1759 \nz\nM 3341 1997 \nL 3341 0 \nL 2766 0 \nL 2766 531 \nQ 2569 213 2275 61 \nQ 1981 -91 1556 -91 \nQ 1019 -91 701 211 \nQ 384 513 384 1019 \nQ 384 1609 779 1909 \nQ 1175 2209 1959 2209 \nL 2766 2209 \nL 2766 2266 \nQ 2766 2663 2505 2880 \nQ 2244 3097 1772 3097 \nQ 1472 3097 1187 3025 \nQ 903 2953 641 2809 \nL 641 3341 \nQ 956 3463 1253 3523 \nQ 1550 3584 1831 3584 \nQ 2591 3584 2966 3190 \nQ 3341 2797 3341 1997 \nz\n\" id=\"DejaVuSans-61\" transform=\"scale(0.015625)\"/>\n      </defs>\n      <use xlink:href=\"#DejaVuSans-6c\"/>\n      <use x=\"27.783203\" xlink:href=\"#DejaVuSans-65\"/>\n      <use x=\"89.306641\" xlink:href=\"#DejaVuSans-6e\"/>\n      <use x=\"152.685547\" xlink:href=\"#DejaVuSans-67\"/>\n      <use x=\"216.162109\" xlink:href=\"#DejaVuSans-74\"/>\n      <use x=\"255.371094\" xlink:href=\"#DejaVuSans-68\"/>\n      <use x=\"318.75\" xlink:href=\"#DejaVuSans-20\"/>\n      <use x=\"350.537109\" xlink:href=\"#DejaVuSans-6f\"/>\n      <use x=\"411.71875\" xlink:href=\"#DejaVuSans-66\"/>\n      <use x=\"446.923828\" xlink:href=\"#DejaVuSans-20\"/>\n      <use x=\"478.710938\" xlink:href=\"#DejaVuSans-64\"/>\n      <use x=\"542.1875\" xlink:href=\"#DejaVuSans-61\"/>\n      <use x=\"603.466797\" xlink:href=\"#DejaVuSans-74\"/>\n      <use x=\"642.675781\" xlink:href=\"#DejaVuSans-61\"/>\n     </g>\n    </g>\n   </g>\n   <g id=\"matplotlib.axis_2\">\n    <g id=\"ytick_1\">\n     <g id=\"line2d_7\">\n      <defs>\n       <path d=\"M 0 0 \nL -3.5 0 \n\" id=\"m3ff028a849\" style=\"stroke:#000000;stroke-width:0.8;\"/>\n      </defs>\n      <g>\n       <use style=\"stroke:#000000;stroke-width:0.8;\" x=\"46.965625\" xlink:href=\"#m3ff028a849\" y=\"224.64\"/>\n      </g>\n     </g>\n     <g id=\"text_8\">\n      <!-- 0 -->\n      <g transform=\"translate(33.603125 228.439219)scale(0.1 -0.1)\">\n       <use xlink:href=\"#DejaVuSans-30\"/>\n      </g>\n     </g>\n    </g>\n    <g id=\"ytick_2\">\n     <g id=\"line2d_8\">\n      <g>\n       <use style=\"stroke:#000000;stroke-width:0.8;\" x=\"46.965625\" xlink:href=\"#m3ff028a849\" y=\"180.296164\"/>\n      </g>\n     </g>\n     <g id=\"text_9\">\n      <!-- 200 -->\n      <g transform=\"translate(20.878125 184.095383)scale(0.1 -0.1)\">\n       <use xlink:href=\"#DejaVuSans-32\"/>\n       <use x=\"63.623047\" xlink:href=\"#DejaVuSans-30\"/>\n       <use x=\"127.246094\" xlink:href=\"#DejaVuSans-30\"/>\n      </g>\n     </g>\n    </g>\n    <g id=\"ytick_3\">\n     <g id=\"line2d_9\">\n      <g>\n       <use style=\"stroke:#000000;stroke-width:0.8;\" x=\"46.965625\" xlink:href=\"#m3ff028a849\" y=\"135.952328\"/>\n      </g>\n     </g>\n     <g id=\"text_10\">\n      <!-- 400 -->\n      <g transform=\"translate(20.878125 139.751547)scale(0.1 -0.1)\">\n       <use xlink:href=\"#DejaVuSans-34\"/>\n       <use x=\"63.623047\" xlink:href=\"#DejaVuSans-30\"/>\n       <use x=\"127.246094\" xlink:href=\"#DejaVuSans-30\"/>\n      </g>\n     </g>\n    </g>\n    <g id=\"ytick_4\">\n     <g id=\"line2d_10\">\n      <g>\n       <use style=\"stroke:#000000;stroke-width:0.8;\" x=\"46.965625\" xlink:href=\"#m3ff028a849\" y=\"91.608492\"/>\n      </g>\n     </g>\n     <g id=\"text_11\">\n      <!-- 600 -->\n      <g transform=\"translate(20.878125 95.407711)scale(0.1 -0.1)\">\n       <defs>\n        <path d=\"M 2113 2584 \nQ 1688 2584 1439 2293 \nQ 1191 2003 1191 1497 \nQ 1191 994 1439 701 \nQ 1688 409 2113 409 \nQ 2538 409 2786 701 \nQ 3034 994 3034 1497 \nQ 3034 2003 2786 2293 \nQ 2538 2584 2113 2584 \nz\nM 3366 4563 \nL 3366 3988 \nQ 3128 4100 2886 4159 \nQ 2644 4219 2406 4219 \nQ 1781 4219 1451 3797 \nQ 1122 3375 1075 2522 \nQ 1259 2794 1537 2939 \nQ 1816 3084 2150 3084 \nQ 2853 3084 3261 2657 \nQ 3669 2231 3669 1497 \nQ 3669 778 3244 343 \nQ 2819 -91 2113 -91 \nQ 1303 -91 875 529 \nQ 447 1150 447 2328 \nQ 447 3434 972 4092 \nQ 1497 4750 2381 4750 \nQ 2619 4750 2861 4703 \nQ 3103 4656 3366 4563 \nz\n\" id=\"DejaVuSans-36\" transform=\"scale(0.015625)\"/>\n       </defs>\n       <use xlink:href=\"#DejaVuSans-36\"/>\n       <use x=\"63.623047\" xlink:href=\"#DejaVuSans-30\"/>\n       <use x=\"127.246094\" xlink:href=\"#DejaVuSans-30\"/>\n      </g>\n     </g>\n    </g>\n    <g id=\"ytick_5\">\n     <g id=\"line2d_11\">\n      <g>\n       <use style=\"stroke:#000000;stroke-width:0.8;\" x=\"46.965625\" xlink:href=\"#m3ff028a849\" y=\"47.264656\"/>\n      </g>\n     </g>\n     <g id=\"text_12\">\n      <!-- 800 -->\n      <g transform=\"translate(20.878125 51.063875)scale(0.1 -0.1)\">\n       <defs>\n        <path d=\"M 2034 2216 \nQ 1584 2216 1326 1975 \nQ 1069 1734 1069 1313 \nQ 1069 891 1326 650 \nQ 1584 409 2034 409 \nQ 2484 409 2743 651 \nQ 3003 894 3003 1313 \nQ 3003 1734 2745 1975 \nQ 2488 2216 2034 2216 \nz\nM 1403 2484 \nQ 997 2584 770 2862 \nQ 544 3141 544 3541 \nQ 544 4100 942 4425 \nQ 1341 4750 2034 4750 \nQ 2731 4750 3128 4425 \nQ 3525 4100 3525 3541 \nQ 3525 3141 3298 2862 \nQ 3072 2584 2669 2484 \nQ 3125 2378 3379 2068 \nQ 3634 1759 3634 1313 \nQ 3634 634 3220 271 \nQ 2806 -91 2034 -91 \nQ 1263 -91 848 271 \nQ 434 634 434 1313 \nQ 434 1759 690 2068 \nQ 947 2378 1403 2484 \nz\nM 1172 3481 \nQ 1172 3119 1398 2916 \nQ 1625 2713 2034 2713 \nQ 2441 2713 2670 2916 \nQ 2900 3119 2900 3481 \nQ 2900 3844 2670 4047 \nQ 2441 4250 2034 4250 \nQ 1625 4250 1398 4047 \nQ 1172 3844 1172 3481 \nz\n\" id=\"DejaVuSans-38\" transform=\"scale(0.015625)\"/>\n       </defs>\n       <use xlink:href=\"#DejaVuSans-38\"/>\n       <use x=\"63.623047\" xlink:href=\"#DejaVuSans-30\"/>\n       <use x=\"127.246094\" xlink:href=\"#DejaVuSans-30\"/>\n      </g>\n     </g>\n    </g>\n    <g id=\"text_13\">\n     <!-- number of data -->\n     <g transform=\"translate(14.798438 154.694219)rotate(-90)scale(0.1 -0.1)\">\n      <defs>\n       <path d=\"M 544 1381 \nL 544 3500 \nL 1119 3500 \nL 1119 1403 \nQ 1119 906 1312 657 \nQ 1506 409 1894 409 \nQ 2359 409 2629 706 \nQ 2900 1003 2900 1516 \nL 2900 3500 \nL 3475 3500 \nL 3475 0 \nL 2900 0 \nL 2900 538 \nQ 2691 219 2414 64 \nQ 2138 -91 1772 -91 \nQ 1169 -91 856 284 \nQ 544 659 544 1381 \nz\nM 1991 3584 \nL 1991 3584 \nz\n\" id=\"DejaVuSans-75\" transform=\"scale(0.015625)\"/>\n       <path d=\"M 3328 2828 \nQ 3544 3216 3844 3400 \nQ 4144 3584 4550 3584 \nQ 5097 3584 5394 3201 \nQ 5691 2819 5691 2113 \nL 5691 0 \nL 5113 0 \nL 5113 2094 \nQ 5113 2597 4934 2840 \nQ 4756 3084 4391 3084 \nQ 3944 3084 3684 2787 \nQ 3425 2491 3425 1978 \nL 3425 0 \nL 2847 0 \nL 2847 2094 \nQ 2847 2600 2669 2842 \nQ 2491 3084 2119 3084 \nQ 1678 3084 1418 2786 \nQ 1159 2488 1159 1978 \nL 1159 0 \nL 581 0 \nL 581 3500 \nL 1159 3500 \nL 1159 2956 \nQ 1356 3278 1631 3431 \nQ 1906 3584 2284 3584 \nQ 2666 3584 2933 3390 \nQ 3200 3197 3328 2828 \nz\n\" id=\"DejaVuSans-6d\" transform=\"scale(0.015625)\"/>\n       <path d=\"M 3116 1747 \nQ 3116 2381 2855 2742 \nQ 2594 3103 2138 3103 \nQ 1681 3103 1420 2742 \nQ 1159 2381 1159 1747 \nQ 1159 1113 1420 752 \nQ 1681 391 2138 391 \nQ 2594 391 2855 752 \nQ 3116 1113 3116 1747 \nz\nM 1159 2969 \nQ 1341 3281 1617 3432 \nQ 1894 3584 2278 3584 \nQ 2916 3584 3314 3078 \nQ 3713 2572 3713 1747 \nQ 3713 922 3314 415 \nQ 2916 -91 2278 -91 \nQ 1894 -91 1617 61 \nQ 1341 213 1159 525 \nL 1159 0 \nL 581 0 \nL 581 4863 \nL 1159 4863 \nL 1159 2969 \nz\n\" id=\"DejaVuSans-62\" transform=\"scale(0.015625)\"/>\n       <path d=\"M 2631 2963 \nQ 2534 3019 2420 3045 \nQ 2306 3072 2169 3072 \nQ 1681 3072 1420 2755 \nQ 1159 2438 1159 1844 \nL 1159 0 \nL 581 0 \nL 581 3500 \nL 1159 3500 \nL 1159 2956 \nQ 1341 3275 1631 3429 \nQ 1922 3584 2338 3584 \nQ 2397 3584 2469 3576 \nQ 2541 3569 2628 3553 \nL 2631 2963 \nz\n\" id=\"DejaVuSans-72\" transform=\"scale(0.015625)\"/>\n      </defs>\n      <use xlink:href=\"#DejaVuSans-6e\"/>\n      <use x=\"63.378906\" xlink:href=\"#DejaVuSans-75\"/>\n      <use x=\"126.757812\" xlink:href=\"#DejaVuSans-6d\"/>\n      <use x=\"224.169922\" xlink:href=\"#DejaVuSans-62\"/>\n      <use x=\"287.646484\" xlink:href=\"#DejaVuSans-65\"/>\n      <use x=\"349.169922\" xlink:href=\"#DejaVuSans-72\"/>\n      <use x=\"390.283203\" xlink:href=\"#DejaVuSans-20\"/>\n      <use x=\"422.070312\" xlink:href=\"#DejaVuSans-6f\"/>\n      <use x=\"483.251953\" xlink:href=\"#DejaVuSans-66\"/>\n      <use x=\"518.457031\" xlink:href=\"#DejaVuSans-20\"/>\n      <use x=\"550.244141\" xlink:href=\"#DejaVuSans-64\"/>\n      <use x=\"613.720703\" xlink:href=\"#DejaVuSans-61\"/>\n      <use x=\"675\" xlink:href=\"#DejaVuSans-74\"/>\n      <use x=\"714.208984\" xlink:href=\"#DejaVuSans-61\"/>\n     </g>\n    </g>\n   </g>\n   <g id=\"patch_53\">\n    <path d=\"M 46.965625 224.64 \nL 46.965625 7.2 \n\" style=\"fill:none;stroke:#000000;stroke-linecap:square;stroke-linejoin:miter;stroke-width:0.8;\"/>\n   </g>\n   <g id=\"patch_54\">\n    <path d=\"M 381.765625 224.64 \nL 381.765625 7.2 \n\" style=\"fill:none;stroke:#000000;stroke-linecap:square;stroke-linejoin:miter;stroke-width:0.8;\"/>\n   </g>\n   <g id=\"patch_55\">\n    <path d=\"M 46.965625 224.64 \nL 381.765625 224.64 \n\" style=\"fill:none;stroke:#000000;stroke-linecap:square;stroke-linejoin:miter;stroke-width:0.8;\"/>\n   </g>\n   <g id=\"patch_56\">\n    <path d=\"M 46.965625 7.2 \nL 381.765625 7.2 \n\" style=\"fill:none;stroke:#000000;stroke-linecap:square;stroke-linejoin:miter;stroke-width:0.8;\"/>\n   </g>\n  </g>\n </g>\n <defs>\n  <clipPath id=\"p152a3c1d25\">\n   <rect height=\"217.44\" width=\"334.8\" x=\"46.965625\" y=\"7.2\"/>\n  </clipPath>\n </defs>\n</svg>\n",
      "image/png": "[encoded data removed]"
     },
     "metadata": {
      "needs_background": "light"
     }
    }
   ],
   "source": [
    "## 각 행의 문장 길이를 살펴봅니다.\n",
    "isent, ient1, ient2 = 1, 2, 5\n",
    "\n",
    "#학습 문장 길이 조사\n",
    "print(\"학습 문장 최대 길이:\", max(map(len, df[isent])))\n",
    "print(\"학습 문장 평균 길이:\", sum(map(len, df[isent])) / len(df[isent]))\n",
    "\n",
    "plt.hist([len(s) for s in df[isent]], bins=50)\n",
    "plt.xlabel('length of data')\n",
    "plt.ylabel('number of data')\n",
    "plt.show()\n"
   ]
  },
  {
   "cell_type": "code",
   "execution_count": 26,
   "metadata": {},
   "outputs": [
    {
     "output_type": "stream",
     "name": "stdout",
     "text": [
      "0 4429\n1 92\n2 553\n3 44\n4 683\n5 186\n6 231\n7 209\n8 164\n9 115\n10 814\n11 58\n12 45\n13 11\n14 45\n15 335\n16 23\n17 171\n18 7\n19 4\n20 135\n21 84\n22 56\n23 79\n24 103\n25 52\n26 8\n27 36\n28 9\n29 6\n30 12\n31 15\n32 26\n33 67\n34 15\n35 27\n36 11\n37 3\n38 18\n39 9\n40 1\n41 5\n"
     ]
    }
   ],
   "source": [
    "for label, logit in label_type.items():\n",
    "    print(logit, len(df[df[8] == label]))"
   ]
  },
  {
   "cell_type": "code",
   "execution_count": 8,
   "id": "4f781971-993f-422d-b9ab-3edfd57f14d5",
   "metadata": {},
   "outputs": [
    {
     "name": "stdout",
     "output_type": "stream",
     "text": [
      "18 7\n",
      "19 4\n",
      "26 8\n",
      "28 9\n",
      "29 6\n",
      "37 3\n",
      "39 9\n",
      "40 1\n",
      "41 5\n"
     ]
    }
   ],
   "source": [
    "# 데이터가 적은 label 확인\n",
    "for label, logit in label_type.items():\n",
    "    if len(df[df[8] == label]) < 10:\n",
    "        print(logit, len(df[df[8] == label]))"
   ]
  },
  {
   "source": [
    "## test data를 담은 tsv 파일 (test.tsv)"
   ],
   "cell_type": "markdown",
   "metadata": {}
  },
  {
   "cell_type": "code",
   "execution_count": 27,
   "id": "57dd803c-bacd-4597-a9e6-48a1be0a890e",
   "metadata": {},
   "outputs": [
    {
     "output_type": "stream",
     "name": "stdout",
     "text": [
      "데이터 개수:  1000\n"
     ]
    },
    {
     "output_type": "execute_result",
     "data": {
      "text/plain": [
       "                     0                    1        2   3   4     5   6   7  \\\n",
       "0  wikipedia-15133-...  이은주의 첫 영화로, 그녀가 ...      이은주   0   2    감독  45  46   \n",
       "1  wikitree-10241-0...  경성대학교(총장 송수건) 미술...    경성대학교   0   4   송수건   9  11   \n",
       "2  wikipedia-24909-...  하더라도 만일 그녀의 아들에게...  에드워드 3세  83  89  이사벨라  45  48   \n",
       "3  wikitree-29775-2...  정성으로 담근 700포기의 김...   새마을부녀회  38  43    김치  17  18   \n",
       "4  wikipedia-20874-...  노트북은 이들 정부에 판매될 ...       정부   8   9   한 명  30  32   \n",
       "\n",
       "       8  \n",
       "0  blind  \n",
       "1  blind  \n",
       "2  blind  \n",
       "3  blind  \n",
       "4  blind  "
      ],
      "text/html": "<div>\n<style scoped>\n    .dataframe tbody tr th:only-of-type {\n        vertical-align: middle;\n    }\n\n    .dataframe tbody tr th {\n        vertical-align: top;\n    }\n\n    .dataframe thead th {\n        text-align: right;\n    }\n</style>\n<table border=\"1\" class=\"dataframe\">\n  <thead>\n    <tr style=\"text-align: right;\">\n      <th></th>\n      <th>0</th>\n      <th>1</th>\n      <th>2</th>\n      <th>3</th>\n      <th>4</th>\n      <th>5</th>\n      <th>6</th>\n      <th>7</th>\n      <th>8</th>\n    </tr>\n  </thead>\n  <tbody>\n    <tr>\n      <th>0</th>\n      <td>wikipedia-15133-...</td>\n      <td>이은주의 첫 영화로, 그녀가 ...</td>\n      <td>이은주</td>\n      <td>0</td>\n      <td>2</td>\n      <td>감독</td>\n      <td>45</td>\n      <td>46</td>\n      <td>blind</td>\n    </tr>\n    <tr>\n      <th>1</th>\n      <td>wikitree-10241-0...</td>\n      <td>경성대학교(총장 송수건) 미술...</td>\n      <td>경성대학교</td>\n      <td>0</td>\n      <td>4</td>\n      <td>송수건</td>\n      <td>9</td>\n      <td>11</td>\n      <td>blind</td>\n    </tr>\n    <tr>\n      <th>2</th>\n      <td>wikipedia-24909-...</td>\n      <td>하더라도 만일 그녀의 아들에게...</td>\n      <td>에드워드 3세</td>\n      <td>83</td>\n      <td>89</td>\n      <td>이사벨라</td>\n      <td>45</td>\n      <td>48</td>\n      <td>blind</td>\n    </tr>\n    <tr>\n      <th>3</th>\n      <td>wikitree-29775-2...</td>\n      <td>정성으로 담근 700포기의 김...</td>\n      <td>새마을부녀회</td>\n      <td>38</td>\n      <td>43</td>\n      <td>김치</td>\n      <td>17</td>\n      <td>18</td>\n      <td>blind</td>\n    </tr>\n    <tr>\n      <th>4</th>\n      <td>wikipedia-20874-...</td>\n      <td>노트북은 이들 정부에 판매될 ...</td>\n      <td>정부</td>\n      <td>8</td>\n      <td>9</td>\n      <td>한 명</td>\n      <td>30</td>\n      <td>32</td>\n      <td>blind</td>\n    </tr>\n  </tbody>\n</table>\n</div>"
     },
     "metadata": {},
     "execution_count": 27
    }
   ],
   "source": [
    "path = \"/opt/ml/input/data/test/test.tsv\"\n",
    "dataset = pd.read_csv(path, delimiter=\"\\t\", header=None)\n",
    "print(\"데이터 개수: \", dataset.shape[0])\n",
    "dataset.head()"
   ]
  }
 ],
 "metadata": {
  "kernelspec": {
   "name": "python377jvsc74a57bd098b0a9b7b4eaaa670588a142fd0a9b87eaafe866f1db4228be72b4211d12040f",
   "display_name": "Python 3.7.7 64-bit ('base': conda)"
  },
  "language_info": {
   "codemirror_mode": {
    "name": "ipython",
    "version": 3
   },
   "file_extension": ".py",
   "mimetype": "text/x-python",
   "name": "python",
   "nbconvert_exporter": "python",
   "pygments_lexer": "ipython3",
   "version": "3.7.7"
  }
 },
 "nbformat": 4,
 "nbformat_minor": 5
}