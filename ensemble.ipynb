{
 "metadata": {
  "language_info": {
   "codemirror_mode": {
    "name": "ipython",
    "version": 3
   },
   "file_extension": ".py",
   "mimetype": "text/x-python",
   "name": "python",
   "nbconvert_exporter": "python",
   "pygments_lexer": "ipython3",
   "version": "3.7.7"
  },
  "orig_nbformat": 2,
  "kernelspec": {
   "name": "python377jvsc74a57bd098b0a9b7b4eaaa670588a142fd0a9b87eaafe866f1db4228be72b4211d12040f",
   "display_name": "Python 3.7.7 64-bit ('base': conda)"
  }
 },
 "nbformat": 4,
 "nbformat_minor": 2,
 "cells": [
  {
   "cell_type": "code",
   "execution_count": 2,
   "metadata": {},
   "outputs": [
    {
     "output_type": "execute_result",
     "data": {
      "text/plain": [
       "['/opt/ml/code/prediction/submission10_token_and_minor_label.csv',\n",
       " '/opt/ml/code/prediction/submission11_markedsent_maxlen204.csv',\n",
       " '/opt/ml/code/prediction/submission13_data_aug_less_epoch.csv',\n",
       " '/opt/ml/code/prediction/submission14_15epoch_to_13epoch.csv',\n",
       " '/opt/ml/code/prediction/submission3_20epochs.csv',\n",
       " '/opt/ml/code/prediction/submission4_koelectra.csv']"
      ]
     },
     "metadata": {},
     "execution_count": 2
    }
   ],
   "source": [
    "import numpy as np\n",
    "import pandas as pd\n",
    "from matplotlib import pyplot as plt\n",
    "from glob import glob\n",
    "\n",
    "# 추정값들을 저장해놓은 csv 파일들의 경로입니다.\n",
    "paths = sorted(glob(\"/opt/ml/code/prediction/*.csv\"))\n",
    "num_paths = len(paths) # csv 파일 개수\n",
    "\n",
    "# hard vote 시, 동점인 경우 점수가 가장 좋았던 데이터에 결정권을 주었습니다.\n",
    "# - 처음에는 왼쪽의 자연 정렬(숫자 정렬)된 순서를 기준으로 했습니다.\n",
    "# - 그런데 코드에서는 경로가 문자이기 때문에 문자열 정렬이 되므로 순서가 다름에 주의해야 합니다.\n",
    "#   아래의 paths를 직접 보고 결정하도록 합니다.\n",
    "paths"
   ]
  },
  {
   "cell_type": "code",
   "execution_count": 21,
   "metadata": {},
   "outputs": [],
   "source": [
    "\n",
    "king = 0 # 동점인 경우에 따를 csv파일의 인덱스입니다.\n",
    "\n",
    "# csv 파일들을 DataFrame의 각 열에 담습니다. (len_testset-rows x num_file-columns)\n",
    "# - pd.read_csv(path)\n",
    "# - csv 파일의 형식이 \",\"가 아닌 \"\\t\"로 구분되므로 delimiter를 지정해줍니다.\n",
    "# - 또한 header도 없으므로 None으로 설정해줍니다.\n",
    "#\n",
    "# 만약 list 형태로 담으면 전치된 형태가 됩니다. (num_file-rows x len_testset-columns)\n",
    "# df = pd.DataFrame([\n",
    "#     pd.read_csv(path, delimiter=\"\\t\", header=None)[0][1:] for path in paths\n",
    "# ])\n",
    "df = pd.DataFrame({\n",
    "    i: pd.read_csv(paths[i], delimiter=\"\\t\", header=None)[0][1:] for i in range(num_paths)\n",
    "})\n",
    "len_testset = len(df[0]) # 1000\n",
    "\n",
    "output = [] # 투표 결과를 담습니다.\n",
    "for i in range(len_testset):\n",
    "    # 각 데이터(행) 별로 예측값과 해당 개수를 저장합니다.\n",
    "    preds, cnts = [], []\n",
    "    for pred, cnt in df.iloc[i].value_counts().items():\n",
    "        preds.append(pred)\n",
    "        cnts.append(cnt)\n",
    "\n",
    "    # 예측값이 한 가지이면 만장일치입니다.\n",
    "    if len(preds) == 1:\n",
    "        ans = preds[0]\n",
    "    # 그렇지 않으면, 투표를 시행합니다.\n",
    "    else:\n",
    "        i1, i2 = np.argsort(cnts)[:2] # i1, i2는 두 최상위 득표수의 인덱스\n",
    "        # 최상위 득표수가 동점이면 투표로 결론나지 않습니다.\n",
    "        # 이 때는 결정권자인 king의 예측값을 선택합니다.\n",
    "        if cnts[i1] == cnts[i2]:\n",
    "            ans = df[king][i+1]\n",
    "        # 최상위 득표수가 하나이면 해당 예측값을 선택합니다.\n",
    "        else:\n",
    "            ans = preds[i1]\n",
    "    output.append(ans)\n",
    "\n",
    "# DataFrame에 담습니다.\n",
    "# - 이번 대회의 제출 형식에 따라, columns=[\"pred\"]로 설정합니다.\n",
    "output = pd.DataFrame(output, columns=[\"pred\"])\n",
    "#output.head()\n",
    "\n",
    "# 저장\n",
    "output_dir = \"/opt/ml/code/prediction/ensemble.csv\"\n",
    "output.to_csv(output_dir, index=False)\n",
    "\n",
    "# 잘 저장되었는지 확인합니다.\n",
    "pd.read_csv(output_dir, delimiter=\"\\t\", header=None)"
   ]
  }
 ]
}